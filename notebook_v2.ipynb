{
 "cells": [
  {
   "cell_type": "code",
   "execution_count": 5,
   "metadata": {},
   "outputs": [
    {
     "data": {
      "text/plain": [
       "True"
      ]
     },
     "execution_count": 5,
     "metadata": {},
     "output_type": "execute_result"
    }
   ],
   "source": [
    "import configparser\n",
    "import psycopg2\n",
    "import requests as r \n",
    "import json \n",
    "from os import write\n",
    "import requests\n",
    "from requests.api import request\n",
    "import pandas as pd\n",
    "import csv, json\n",
    "from pyspark.sql import SparkSession\n",
    "from pyspark.sql.functions import *\n",
    "import pyspark.sql.functions as F\n",
    "from dotenv import load_dotenv\n",
    "import boto3\n",
    "import os\n",
    "load_dotenv()"
   ]
  },
  {
   "cell_type": "code",
   "execution_count": 25,
   "metadata": {},
   "outputs": [],
   "source": [
    "def create_SparkSession():\n",
    "    \"\"\"[summary]\n",
    "\n",
    "    Returns:\n",
    "        [type]: [description]\n",
    "    \"\"\"\n",
    "    spark = SparkSession.builder.\\\n",
    "    config(\"spark.jars.repositories\", \"https://repos.spark-packages.org/\").\\\n",
    "    config(\"spark.jars.packages\", \"saurfang:spark-sas7bdat:2.0.0-s_2.11\").\\\n",
    "    enableHiveSupport().getOrCreate()\n",
    "    return spark\n",
    "\n",
    "spark = create_SparkSession()\n"
   ]
  },
  {
   "cell_type": "code",
   "execution_count": 26,
   "metadata": {},
   "outputs": [
    {
     "data": {
      "text/html": [
       "\n",
       "            <div>\n",
       "                <p><b>SparkSession - hive</b></p>\n",
       "                \n",
       "        <div>\n",
       "            <p><b>SparkContext</b></p>\n",
       "\n",
       "            <p><a href=\"http://172.21.47.8:4047\">Spark UI</a></p>\n",
       "\n",
       "            <dl>\n",
       "              <dt>Version</dt>\n",
       "                <dd><code>v3.2.0</code></dd>\n",
       "              <dt>Master</dt>\n",
       "                <dd><code>local[*]</code></dd>\n",
       "              <dt>AppName</dt>\n",
       "                <dd><code>pyspark-shell</code></dd>\n",
       "            </dl>\n",
       "        </div>\n",
       "        \n",
       "            </div>\n",
       "        "
      ],
      "text/plain": [
       "<pyspark.sql.session.SparkSession at 0x7fa8893df1c0>"
      ]
     },
     "execution_count": 26,
     "metadata": {},
     "output_type": "execute_result"
    }
   ],
   "source": [
    "spark"
   ]
  },
  {
   "cell_type": "code",
   "execution_count": 4,
   "metadata": {},
   "outputs": [],
   "source": [
    "\n",
    "\n",
    "def create_SparkSession():\n",
    "    \"\"\"[summary]\n",
    "\n",
    "    Returns:\n",
    "        [type]: [description]\n",
    "    \"\"\"\n",
    "    spark = SparkSession.builder.\\\n",
    "    config(\"spark.jars.repositories\", \"https://repos.spark-packages.org/\").\\\n",
    "    config(\"spark.jars.packages\", \"saurfang:spark-sas7bdat:2.0.0-s_2.11\").\\\n",
    "    enableHiveSupport().getOrCreate()\n",
    "    return spark\n",
    "\n",
    "\n",
    "def binance_BtcUSDT_minute(data):\n",
    "    \"\"\"[\n",
    "        - Take data CSV format and manipulate the spark dataframe\n",
    "        - Capitalize first letter of each column\n",
    "        - Round float to ceil and single digit\n",
    "        ]\n",
    "\n",
    "    Args:\n",
    "        data ([type]): [description]\n",
    "\n",
    "    Returns:\n",
    "        [type]: [description]\n",
    "    \"\"\"\n",
    "    spark = create_SparkSession()\n",
    "    payload = spark.read.option('header', True).csv(data)\n",
    "    payload = payload.select([F.col(col).alias(col.replace(' ','_')) for col in payload.columns])\n",
    "    payload = payload.toDF(*[i.capitalize() for i in payload.columns])\n",
    "    \n",
    "    collect_columns=['Open', 'High', 'Low','Close', 'Volume_btc', 'Tradecount', 'Volume_usdt']\n",
    "    \n",
    "    for col1 in payload.columns:\n",
    "        for col2 in collect_columns:\n",
    "            if col1==col2:\n",
    "                payload = payload.withColumn(col1, round(col1, 1))\n",
    "    return payload\n",
    "\n",
    "\n",
    "def create_boto3_session():\n",
    "    session = boto3.Session\\\n",
    "    (\n",
    "    aws_access_key_id=os.getenv('AWS_ACCESS_KEY_ID'),\n",
    "    aws_secret_access_key= os.getenv('AWS_SECRET_ACCESS_KEY')\n",
    "    )\n",
    "    return session\n",
    "\n",
    "\n",
    "def upload_to_s3(bucketname, local_file_path, s3_file_path):\n",
    "    session = create_boto3_session()\n",
    "    s3 = boto3.resource('s3')\n",
    "    try:\n",
    "        s3.meta.client.upload_file(local_file_path, bucketname, s3_file_path)\n",
    "        print('Success!')\n",
    "    except Exception as e:\n",
    "        print(f'{e}\\n Fail!')\n",
    "        \n",
    "\n",
    "def download_from_s3(s3_bucket, s3_file_path, local_file_path):\n",
    "    session = create_boto3_session()\n",
    "    try:\n",
    "        s3 = boto3.resource('s3')\n",
    "        my_bucket = s3.Bucket(s3_bucket)\n",
    "        my_bucket.download_file(s3_file_path, local_file_path)\n",
    "        print('Success!')\n",
    "    except Exception as e:\n",
    "        print(f'{e}\\n Fail!')"
   ]
  },
  {
   "cell_type": "code",
   "execution_count": 3,
   "metadata": {},
   "outputs": [
    {
     "name": "stdout",
     "output_type": "stream",
     "text": [
      "Success!\n"
     ]
    }
   ],
   "source": [
    "bucket_name = 'tien-duong1151'\n",
    "local_file = 'data/exchange_info.csv'\n",
    "s3_file_path = 'data/new_exchange_info.csv'\n",
    "upload_to_s3(bucketname=bucket_name, local_file_path=local_file, s3_file_path=s3_file_path)"
   ]
  },
  {
   "cell_type": "code",
   "execution_count": 5,
   "metadata": {},
   "outputs": [
    {
     "name": "stdout",
     "output_type": "stream",
     "text": [
      "Success!\n"
     ]
    }
   ],
   "source": [
    "local_file = 'data/new_exchange_info_2.csv'\n",
    "download_from_s3(bucket_name, s3_file_path, local_file )"
   ]
  },
  {
   "cell_type": "code",
   "execution_count": 2,
   "metadata": {},
   "outputs": [
    {
     "name": "stdout",
     "output_type": "stream",
     "text": [
      "Success!\n"
     ]
    }
   ],
   "source": [
    "def download_from_s3(s3_bucket, s3_file_path, local_file_path):\n",
    "    \n",
    "    try:\n",
    "        s3 = boto3.resource('s3')\n",
    "        my_bucket = s3.Bucket(s3_bucket)\n",
    "        my_bucket.download_file(s3_file_path, local_file_path)\n",
    "        print('Success!')\n",
    "    except Exception as e:\n",
    "        print(f'{e}\\n Fail!')\n",
    "\n",
    "aws_access_key_id=os.getenv('AWS_ACCESS_KEY_ID')\n",
    "aws_secret_access_key= os.getenv('AWS_SECRET_ACCESS_KEY')\n",
    "s3_bucket_name = os.getenv('S3_BUCKET_NAME')\n",
    "s3_file_path = 'data/coins_data.csv'\n",
    "\n",
    "download_from_s3(s3_bucket=s3_bucket_name, s3_file_path=s3_file_path, local_file_path='data/test_file.csv')\n",
    "\n",
    "    # binance_btc_file = 'data/binance_btc.csv'\n",
    "    # bucket_name=s3_bucket_name\n",
    "    # create_boto3_session(aws_key=aws_access_key_id, aws_secret_key=aws_secret_access_key)\n",
    "    # upload_to_s3(bucketname=bucket_name, local_file_path=binance_btc_file, s3_file_path=binance_btc_file)\n",
    "    # print(\"Successfully Uploaded to S3!\")\n",
    "    \n",
    "\n",
    "\n"
   ]
  },
  {
   "cell_type": "code",
   "execution_count": null,
   "metadata": {},
   "outputs": [],
   "source": []
  }
 ],
 "metadata": {
  "interpreter": {
   "hash": "0713f6463a5893c1276d0988b3a789fe2c5d7d06cde310f5cc3bf18d0fd577d8"
  },
  "kernelspec": {
   "display_name": "Python 3.8.10 64-bit ('capstone_venv': venv)",
   "language": "python",
   "name": "python3"
  },
  "language_info": {
   "codemirror_mode": {
    "name": "ipython",
    "version": 3
   },
   "file_extension": ".py",
   "mimetype": "text/x-python",
   "name": "python",
   "nbconvert_exporter": "python",
   "pygments_lexer": "ipython3",
   "version": "3.8.10"
  },
  "orig_nbformat": 4
 },
 "nbformat": 4,
 "nbformat_minor": 2
}
