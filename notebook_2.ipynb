{
 "cells": [
  {
   "cell_type": "code",
   "execution_count": 5,
   "metadata": {},
   "outputs": [
    {
     "name": "stdout",
     "output_type": "stream",
     "text": [
      "Successfully request number 0\n"
     ]
    }
   ],
   "source": [
    "\n",
    "from requests.api import get\n",
    "from pandas_functions import *\n",
    "from  spark_functions import *\n",
    "import pandas as pd\n",
    "import os\n",
    "from dotenv import load_dotenv\n",
    "import config as c\n",
    "import glob\n",
    "\n",
    "coin_requests= get_coin_request(start=0, limit=100)\n",
    "from contextlib import redirect_stdout\n",
    "\n",
    "with open('result_output.py', 'w') as f:\n",
    "    with redirect_stdout(f):\n",
    "        print(f\"coins_data_shape={coin_requests.shape}\")"
   ]
  },
  {
   "cell_type": "code",
   "execution_count": 3,
   "metadata": {},
   "outputs": [
    {
     "data": {
      "text/plain": [
       "(7000, 15)"
      ]
     },
     "execution_count": 3,
     "metadata": {},
     "output_type": "execute_result"
    }
   ],
   "source": [
    "coin_requests.shape"
   ]
  },
  {
   "cell_type": "code",
   "execution_count": 17,
   "metadata": {},
   "outputs": [
    {
     "name": "stderr",
     "output_type": "stream",
     "text": [
      "test_substract (__main__.my_test) ... ok\n",
      "\n",
      "----------------------------------------------------------------------\n",
      "Ran 1 test in 0.001s\n",
      "\n",
      "OK\n"
     ]
    },
    {
     "data": {
      "text/plain": [
       "<unittest.runner.TextTestResult run=1 errors=0 failures=0>"
      ]
     },
     "execution_count": 17,
     "metadata": {},
     "output_type": "execute_result"
    }
   ],
   "source": [
    "import unittest\n",
    "from data_result_output import *\n",
    "\n",
    "\n",
    "class my_test(unittest.TestCase):    \n",
    "    def test_1(self):\n",
    "        # result = coin_requests_s3_result\n",
    "        self.assertEqual(coin_requests_s3_result, coin_requests_s3_result, f\"\\n\\n>>> Test coin_data_result_s3: The result should be:{coin_requests_s3_result}\")\n",
    "    \n",
    "    def test_2(self):\n",
    "        self.assertEqual((100,20), exchange_data_s3_result)\n",
    "\n",
    "suite = unittest.TestLoader().loadTestsFromTestCase(my_test)\n",
    "runner = unittest.TextTestRunner(verbosity=2)\n",
    "runner.run(suite)"
   ]
  },
  {
   "cell_type": "code",
   "execution_count": null,
   "metadata": {},
   "outputs": [],
   "source": []
  }
 ],
 "metadata": {
  "interpreter": {
   "hash": "5ffc6fd8cb3e14e16b5dc077588a22483e644787fd42fd05cc460417ce2d8385"
  },
  "kernelspec": {
   "display_name": "Python 3.8.10 64-bit ('capstone_venv': venv)",
   "language": "python",
   "name": "python3"
  },
  "language_info": {
   "codemirror_mode": {
    "name": "ipython",
    "version": 3
   },
   "file_extension": ".py",
   "mimetype": "text/x-python",
   "name": "python",
   "nbconvert_exporter": "python",
   "pygments_lexer": "ipython3",
   "version": "3.8.10"
  },
  "orig_nbformat": 4
 },
 "nbformat": 4,
 "nbformat_minor": 2
}
